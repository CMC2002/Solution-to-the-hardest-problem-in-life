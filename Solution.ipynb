{
  "nbformat": 4,
  "nbformat_minor": 0,
  "metadata": {
    "colab": {
      "name": "Solution.ipynb",
      "provenance": [],
      "authorship_tag": "ABX9TyMcGu6zntwazAIGXwjR/YOZ",
      "include_colab_link": true
    },
    "kernelspec": {
      "name": "python3",
      "display_name": "Python 3"
    },
    "language_info": {
      "name": "python"
    }
  },
  "cells": [
    {
      "cell_type": "markdown",
      "metadata": {
        "id": "view-in-github",
        "colab_type": "text"
      },
      "source": [
        "<a href=\"https://colab.research.google.com/github/CMC2002/Solution-to-the-hardest-problem-in-life/blob/main/Solution.ipynb\" target=\"_parent\"><img src=\"https://colab.research.google.com/assets/colab-badge.svg\" alt=\"Open In Colab\"/></a>"
      ]
    },
    {
      "cell_type": "code",
      "execution_count": 5,
      "metadata": {
        "colab": {
          "base_uri": "https://localhost:8080/"
        },
        "id": "nIoAbD-zwpzH",
        "outputId": "ef4c2772-adb1-403e-8154-fdd44f195dd4"
      },
      "outputs": [
        {
          "output_type": "stream",
          "name": "stdout",
          "text": [
            "Cloning into 'Solution-to-the-hardest-problem-in-life'...\n",
            "remote: Enumerating objects: 28, done.\u001b[K\n",
            "remote: Counting objects:   3% (1/28)\u001b[K\rremote: Counting objects:   7% (2/28)\u001b[K\rremote: Counting objects:  10% (3/28)\u001b[K\rremote: Counting objects:  14% (4/28)\u001b[K\rremote: Counting objects:  17% (5/28)\u001b[K\rremote: Counting objects:  21% (6/28)\u001b[K\rremote: Counting objects:  25% (7/28)\u001b[K\rremote: Counting objects:  28% (8/28)\u001b[K\rremote: Counting objects:  32% (9/28)\u001b[K\rremote: Counting objects:  35% (10/28)\u001b[K\rremote: Counting objects:  39% (11/28)\u001b[K\rremote: Counting objects:  42% (12/28)\u001b[K\rremote: Counting objects:  46% (13/28)\u001b[K\rremote: Counting objects:  50% (14/28)\u001b[K\rremote: Counting objects:  53% (15/28)\u001b[K\rremote: Counting objects:  57% (16/28)\u001b[K\rremote: Counting objects:  60% (17/28)\u001b[K\rremote: Counting objects:  64% (18/28)\u001b[K\rremote: Counting objects:  67% (19/28)\u001b[K\rremote: Counting objects:  71% (20/28)\u001b[K\rremote: Counting objects:  75% (21/28)\u001b[K\rremote: Counting objects:  78% (22/28)\u001b[K\rremote: Counting objects:  82% (23/28)\u001b[K\rremote: Counting objects:  85% (24/28)\u001b[K\rremote: Counting objects:  89% (25/28)\u001b[K\rremote: Counting objects:  92% (26/28)\u001b[K\rremote: Counting objects:  96% (27/28)\u001b[K\rremote: Counting objects: 100% (28/28)\u001b[K\rremote: Counting objects: 100% (28/28), done.\u001b[K\n",
            "remote: Compressing objects:   4% (1/21)\u001b[K\rremote: Compressing objects:   9% (2/21)\u001b[K\rremote: Compressing objects:  14% (3/21)\u001b[K\rremote: Compressing objects:  19% (4/21)\u001b[K\rremote: Compressing objects:  23% (5/21)\u001b[K\rremote: Compressing objects:  28% (6/21)\u001b[K\rremote: Compressing objects:  33% (7/21)\u001b[K\rremote: Compressing objects:  38% (8/21)\u001b[K\rremote: Compressing objects:  42% (9/21)\u001b[K\rremote: Compressing objects:  47% (10/21)\u001b[K\rremote: Compressing objects:  52% (11/21)\u001b[K\rremote: Compressing objects:  57% (12/21)\u001b[K\rremote: Compressing objects:  61% (13/21)\u001b[K\rremote: Compressing objects:  66% (14/21)\u001b[K\rremote: Compressing objects:  71% (15/21)\u001b[K\rremote: Compressing objects:  76% (16/21)\u001b[K\rremote: Compressing objects:  80% (17/21)\u001b[K\rremote: Compressing objects:  85% (18/21)\u001b[K\rremote: Compressing objects:  90% (19/21)\u001b[K\rremote: Compressing objects:  95% (20/21)\u001b[K\rremote: Compressing objects: 100% (21/21)\u001b[K\rremote: Compressing objects: 100% (21/21), done.\u001b[K\n",
            "Unpacking objects:   3% (1/28)   \rUnpacking objects:   7% (2/28)   \rUnpacking objects:  10% (3/28)   \rUnpacking objects:  14% (4/28)   \rUnpacking objects:  17% (5/28)   \rUnpacking objects:  21% (6/28)   \rUnpacking objects:  25% (7/28)   \rUnpacking objects:  28% (8/28)   \rUnpacking objects:  32% (9/28)   \rUnpacking objects:  35% (10/28)   \rUnpacking objects:  39% (11/28)   \rUnpacking objects:  42% (12/28)   \rUnpacking objects:  46% (13/28)   \rUnpacking objects:  50% (14/28)   \rUnpacking objects:  53% (15/28)   \rUnpacking objects:  57% (16/28)   \rUnpacking objects:  60% (17/28)   \rUnpacking objects:  64% (18/28)   \rUnpacking objects:  67% (19/28)   \rUnpacking objects:  71% (20/28)   \rUnpacking objects:  75% (21/28)   \rUnpacking objects:  78% (22/28)   \rUnpacking objects:  82% (23/28)   \rUnpacking objects:  85% (24/28)   \rUnpacking objects:  89% (25/28)   \rUnpacking objects:  92% (26/28)   \rremote: Total 28 (delta 8), reused 19 (delta 6), pack-reused 0\u001b[K\n",
            "Unpacking objects:  96% (27/28)   \rUnpacking objects: 100% (28/28)   \rUnpacking objects: 100% (28/28), done.\n"
          ]
        }
      ],
      "source": [
        "!git clone https://github.com/CMC2002/Solution-to-the-hardest-problem-in-life.git"
      ]
    },
    {
      "cell_type": "code",
      "source": [
        "%cd Solution-to-the-hardest-problem-in-life\n",
        "!git pull"
      ],
      "metadata": {
        "colab": {
          "base_uri": "https://localhost:8080/"
        },
        "id": "xqysxd-K3yKI",
        "outputId": "e37dd9e8-5fe0-454f-d4b0-5b7ca53f95df"
      },
      "execution_count": 6,
      "outputs": [
        {
          "output_type": "stream",
          "name": "stdout",
          "text": [
            "/content/Solution-to-the-hardest-problem-in-life/Solution-to-the-hardest-problem-in-life\n",
            "Already up to date.\n"
          ]
        }
      ]
    },
    {
      "cell_type": "code",
      "source": [
        "!ls"
      ],
      "metadata": {
        "colab": {
          "base_uri": "https://localhost:8080/"
        },
        "id": "WUEiq54U4Azd",
        "outputId": "12c2a6ff-b045-412f-bae5-f67321996fc9"
      },
      "execution_count": 7,
      "outputs": [
        {
          "output_type": "stream",
          "name": "stdout",
          "text": [
            " README.md   Solution.ipynb   What-to-eat.csv  'What to eat.xlsx'\n"
          ]
        }
      ]
    },
    {
      "cell_type": "code",
      "source": [
        "import csv\n",
        "import pandas as pd\n",
        "import numpy as np\n",
        "Data = pd.read_csv(\"What-to-eat.csv\")\n"
      ],
      "metadata": {
        "id": "nohuKVlI4Mmm"
      },
      "execution_count": null,
      "outputs": []
    }
  ]
}