{
  "nbformat": 4,
  "nbformat_minor": 0,
  "metadata": {
    "colab": {
      "name": "Solution.ipynb",
      "provenance": [],
      "authorship_tag": "ABX9TyMcGu6zntwazAIGXwjR/YOZ",
      "include_colab_link": true
    },
    "kernelspec": {
      "name": "python3",
      "display_name": "Python 3"
    },
    "language_info": {
      "name": "python"
    }
  },
  "cells": [
    {
      "cell_type": "markdown",
      "metadata": {
        "id": "view-in-github",
        "colab_type": "text"
      },
      "source": [
        "<a href=\"https://colab.research.google.com/github/CMC2002/Solution-to-the-hardest-problem-in-life/blob/main/Solution.ipynb\" target=\"_parent\"><img src=\"https://colab.research.google.com/assets/colab-badge.svg\" alt=\"Open In Colab\"/></a>"
      ]
    },
    {
      "cell_type": "code",
      "execution_count": 1,
      "metadata": {
        "colab": {
          "base_uri": "https://localhost:8080/"
        },
        "id": "nIoAbD-zwpzH",
        "outputId": "21d5cd27-f181-41c0-ee2c-b473dcf29adc"
      },
      "outputs": [
        {
          "output_type": "stream",
          "name": "stdout",
          "text": [
            "Cloning into 'Solution-to-the-hardest-problem-in-life'...\n",
            "remote: Enumerating objects: 19, done.\u001b[K\n",
            "remote: Counting objects: 100% (19/19), done.\u001b[K\n",
            "remote: Compressing objects: 100% (15/15), done.\u001b[K\n",
            "remote: Total 19 (delta 4), reused 13 (delta 3), pack-reused 0\u001b[K\n",
            "Unpacking objects: 100% (19/19), done.\n"
          ]
        }
      ],
      "source": [
        "!git clone https://github.com/CMC2002/Solution-to-the-hardest-problem-in-life.git"
      ]
    },
    {
      "cell_type": "code",
      "source": [
        "%cd Solution-to-the-hardest-problem-in-life\n",
        "!git pull"
      ],
      "metadata": {
        "id": "xqysxd-K3yKI",
        "outputId": "e99477d9-0b60-44af-96c2-118107b746e4",
        "colab": {
          "base_uri": "https://localhost:8080/"
        }
      },
      "execution_count": 2,
      "outputs": [
        {
          "output_type": "stream",
          "name": "stdout",
          "text": [
            "/content/Solution-to-the-hardest-problem-in-life\n",
            "Already up to date.\n"
          ]
        }
      ]
    },
    {
      "cell_type": "code",
      "source": [
        "!ls"
      ],
      "metadata": {
        "id": "WUEiq54U4Azd",
        "outputId": "1d1cc0e9-a1c2-4817-89db-de260f8256d2",
        "colab": {
          "base_uri": "https://localhost:8080/"
        }
      },
      "execution_count": 3,
      "outputs": [
        {
          "output_type": "stream",
          "name": "stdout",
          "text": [
            " README.md   Solution.ipynb   What-to-eat.csv  'What to eat.xlsx'\n"
          ]
        }
      ]
    },
    {
      "cell_type": "code",
      "source": [
        "import csv\n",
        "import pandas as pd\n",
        "import numpy as np\n",
        "Data = pd.read_csv(\"What-to-eat.csv\")\n"
      ],
      "metadata": {
        "id": "nohuKVlI4Mmm"
      },
      "execution_count": null,
      "outputs": []
    }
  ]
}